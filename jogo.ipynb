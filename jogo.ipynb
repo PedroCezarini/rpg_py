{
  "metadata": {
    "kernelspec": {
      "name": "python",
      "display_name": "Python (Pyodide)",
      "language": "python"
    },
    "language_info": {
      "codemirror_mode": {
        "name": "python",
        "version": 3
      },
      "file_extension": ".py",
      "mimetype": "text/x-python",
      "name": "python",
      "nbconvert_exporter": "python",
      "pygments_lexer": "ipython3",
      "version": "3.8"
    }
  },
  "nbformat_minor": 4,
  "nbformat": 4,
  "cells": [
    {
      "cell_type": "code",
      "source": "print(\"\\033[1;37;40m \\033[2;37:40m TextColour BlackBackground          TextColour GreyBackground                WhiteText ColouredBackground\\033[0;37;40m\\n\")\nprint(\"\\033[1;30;40m Dark Gray      \\033[0m 1;30;40m            \\033[0;30;47m Black      \\033[0m 0;30;47m               \\033[0;37;41m Black      \\033[0m 0;37;41m\")\nprint(\"\\033[1;31;40m Bright Red     \\033[0m 1;31;40m            \\033[0;31;47m Red        \\033[0m 0;31;47m               \\033[0;37;42m Black      \\033[0m 0;37;42m\")\nprint(\"\\033[1;32;40m Bright Green   \\033[0m 1;32;40m            \\033[0;32;47m Green      \\033[0m 0;32;47m               \\033[0;37;43m Black      \\033[0m 0;37;43m\")\nprint(\"\\033[1;33;40m Yellow         \\033[0m 1;33;40m            \\033[0;33;47m Brown      \\033[0m 0;33;47m               \\033[0;37;44m Black      \\033[0m 0;37;44m\")\nprint(\"\\033[1;34;40m Bright Blue    \\033[0m 1;34;40m            \\033[0;34;47m Blue       \\033[0m 0;34;47m               \\033[0;37;45m Black      \\033[0m 0;37;45m\")\nprint(\"\\033[1;35;40m Bright Magenta \\033[0m 1;35;40m            \\033[0;35;47m Magenta    \\033[0m 0;35;47m               \\033[0;37;46m Black      \\033[0m 0;37;46m\")\nprint(\"\\033[1;36;40m Bright Cyan    \\033[0m 1;36;40m            \\033[0;36;47m Cyan       \\033[0m 0;36;47m               \\033[0;37;47m Black      \\033[0m 0;37;47m\")\nprint(\"\\033[1;37;40m White          \\033[0m 1;37;40m            \\033[0;37;40m Light Grey \\033[0m 0;37;40m               \\033[0;37;48m Black      \\033[0m 0;37;48m\")",
      "metadata": {
        "trusted": true
      },
      "outputs": [
        {
          "name": "stdout",
          "text": "\u001b[1;37;40m \u001b[2;37:40m TextColour BlackBackground          TextColour GreyBackground                WhiteText ColouredBackground\u001b[0;37;40m\n\n\u001b[1;30;40m Dark Gray      \u001b[0m 1;30;40m            \u001b[0;30;47m Black      \u001b[0m 0;30;47m               \u001b[0;37;41m Black      \u001b[0m 0;37;41m\n\u001b[1;31;40m Bright Red     \u001b[0m 1;31;40m            \u001b[0;31;47m Red        \u001b[0m 0;31;47m               \u001b[0;37;42m Black      \u001b[0m 0;37;42m\n\u001b[1;32;40m Bright Green   \u001b[0m 1;32;40m            \u001b[0;32;47m Green      \u001b[0m 0;32;47m               \u001b[0;37;43m Black      \u001b[0m 0;37;43m\n\u001b[1;33;40m Yellow         \u001b[0m 1;33;40m            \u001b[0;33;47m Brown      \u001b[0m 0;33;47m               \u001b[0;37;44m Black      \u001b[0m 0;37;44m\n\u001b[1;34;40m Bright Blue    \u001b[0m 1;34;40m            \u001b[0;34;47m Blue       \u001b[0m 0;34;47m               \u001b[0;37;45m Black      \u001b[0m 0;37;45m\n\u001b[1;35;40m Bright Magenta \u001b[0m 1;35;40m            \u001b[0;35;47m Magenta    \u001b[0m 0;35;47m               \u001b[0;37;46m Black      \u001b[0m 0;37;46m\n\u001b[1;36;40m Bright Cyan    \u001b[0m 1;36;40m            \u001b[0;36;47m Cyan       \u001b[0m 0;36;47m               \u001b[0;37;47m Black      \u001b[0m 0;37;47m\n\u001b[1;37;40m White          \u001b[0m 1;37;40m            \u001b[0;37;40m Light Grey \u001b[0m 0;37;40m               \u001b[0;37;48m Black      \u001b[0m 0;37;48m\n",
          "output_type": "stream"
        }
      ],
      "execution_count": 1
    },
    {
      "cell_type": "code",
      "source": "print(\"\\033[1;31mX\", end=\"\")\nprint(\"\\033[1;32mX\", end=\"\")",
      "metadata": {
        "trusted": true
      },
      "outputs": [
        {
          "name": "stdout",
          "text": "\u001b[1;31mX\u001b[1;32mX",
          "output_type": "stream"
        }
      ],
      "execution_count": 7
    },
    {
      "cell_type": "code",
      "source": "def colorir(char, cor):\n    print(\"\\033[1;{}m{}\".format(30+cor, char), end=\"\" )",
      "metadata": {
        "trusted": true
      },
      "outputs": [],
      "execution_count": 8
    },
    {
      "cell_type": "code",
      "source": "def espacar(cor):\n    print(\"\\033[1;37;{}m \".format(40+cor), end=\"\" )",
      "metadata": {
        "trusted": true
      },
      "outputs": [],
      "execution_count": 1
    },
    {
      "cell_type": "code",
      "source": "def pinta(char, cor, fundo):\n    print(\"\\033[1;{};{}m{}\".format(30+cor, 40+fundo, char), end=\"\" )",
      "metadata": {
        "trusted": true
      },
      "outputs": [],
      "execution_count": 4
    },
    {
      "cell_type": "code",
      "source": "colorir(\"X\", 0)\ncolorir(\"X\", 1)\ncolorir(\"X\", 2)\ncolorir(\"X\", 3)\ncolorir(\"X\", 4)\ncolorir(\"X\", 5)\n",
      "metadata": {
        "trusted": true
      },
      "outputs": [
        {
          "name": "stdout",
          "text": "\u001b[1;30mX\u001b[1;31mX\u001b[1;32mX\u001b[1;33mX\u001b[1;34mX\u001b[1;35mX",
          "output_type": "stream"
        }
      ],
      "execution_count": 13
    },
    {
      "cell_type": "code",
      "source": "espacar(0)\nespacar(1)\nespacar(2)\nespacar(3)\nespacar(4)\nespacar(5)\nprint(\"cavalo\")\npinta(\"cavalo\", -30, -40)\nprint(\"\\ncavalo\")",
      "metadata": {
        "trusted": true
      },
      "outputs": [
        {
          "name": "stdout",
          "text": "\u001b[1;37;40m \u001b[1;37;41m \u001b[1;37;42m \u001b[1;37;43m \u001b[1;37;44m \u001b[1;37;45m cavalo\n\u001b[1;0;0mcavalo\ncavalo\n",
          "output_type": "stream"
        }
      ],
      "execution_count": 6
    },
    {
      "cell_type": "code",
      "source": "pinta(\"---------\", 0, 4)\npinta(\"__________\", 1, 2)\npinta(\"12143214\", 2, 7)\npinta(\"X\", 3, 9)\npinta(\"X\", 4, 7)\npinta(\"X\", 5, 4)",
      "metadata": {
        "trusted": true
      },
      "outputs": [
        {
          "name": "stdout",
          "text": "\u001b[1;30;44m---------\u001b[1;31;42m__________\u001b[1;32;47m12143214\u001b[1;33;49mX\u001b[1;34;47mX\u001b[1;35;44mX",
          "output_type": "stream"
        }
      ],
      "execution_count": 5
    },
    {
      "cell_type": "code",
      "source": "import random\n\nmatrix = []\nprint(\"Enter the entries row wise:\")\n \n# For user input\n# A for loop for row entries\nfor row in range(10):    \n    a = []\n    # A for loop for column entries\n    for column in range(10):   \n        a.append(random.randint(0,9))\n    matrix.append(a)\n \n# For printing the matrix\nfor row in range(10):\n    for column in range(10):\n        print(matrix[row][column], end=\" \")\n    print()",
      "metadata": {
        "trusted": true
      },
      "outputs": [
        {
          "name": "stdout",
          "text": "Enter the entries row wise:\n9 2 2 0 8 5 3 1 9 6 \n7 5 0 8 7 6 7 0 8 3 \n4 6 9 1 3 2 7 4 8 4 \n9 3 9 4 3 2 4 2 9 9 \n8 4 2 7 9 3 2 0 7 1 \n6 7 2 7 0 5 5 9 5 6 \n3 3 4 8 4 9 4 0 5 1 \n4 6 6 0 5 2 4 1 9 6 \n2 0 5 3 2 2 4 3 1 3 \n8 2 7 7 9 5 2 4 3 2 \n",
          "output_type": "stream"
        }
      ],
      "execution_count": 18
    },
    {
      "cell_type": "code",
      "source": "with open('mapa.txt', 'r') as f:\n    l = [[int(num) for num in line.split()] for line in f]\nprint(l)\nf.close()",
      "metadata": {
        "trusted": true
      },
      "outputs": [
        {
          "name": "stdout",
          "text": "[[1, 1, 1, 1, 1, 1, 1, 1, 1, 1, 1, 1, 1, 1, 1, 1, 1, 1, 1, 1, 1, 1, 1, 1, 1, 1, 1, 1, 1, 1, 1, 1, 1, 1, 1, 1], [1, 1, 1, 1, 1, 1, 1, 2, 2, 1, 1, 1, 1, 1, 1, 1, 1, 1, 1, 1, 1, 1, 1, 1, 1, 1, 1, 1, 1, 1, 1, 1, 1, 1, 1, 1], [2, 2, 2, 2, 2, 2, 2, 2, 2, 2, 2, 2, 2, 2, 2, 2, 2, 2, 2, 1, 1, 1, 1, 1, 1, 1, 1, 1, 2, 2, 2, 2, 1, 1, 2, 1], [2, 2, 2, 2, 2, 2, 3, 3, 2, 2, 2, 2, 2, 2, 2, 2, 2, 2, 2, 2, 1, 1, 2, 1, 2, 2, 2, 2, 2, 2, 2, 2, 1, 1, 2, 1], [3, 3, 3, 3, 3, 3, 3, 3, 2, 2, 2, 2, 2, 2, 2, 2, 2, 2, 2, 2, 2, 2, 2, 2, 2, 2, 2, 2, 2, 2, 2, 2, 2, 2, 2, 2], [3, 3, 3, 3, 3, 3, 3, 3, 2, 3, 3, 3, 3, 3, 3, 3, 3, 2, 3, 3, 3, 3, 3, 3, 3, 3, 2, 3, 3, 3, 3, 3, 3, 3, 3, 2], [3, 3, 2, 2, 2, 2, 2, 2, 2, 2, 2, 2, 2, 3, 3, 3, 3, 3, 3, 3, 3, 3, 3, 2, 2, 2, 2, 2, 2, 2, 2, 2, 2, 2, 2, 3], [3, 3, 2, 2, 2, 4, 4, 4, 2, 2, 2, 2, 2, 2, 2, 2, 2, 2, 2, 3, 2, 3, 2, 2, 2, 2, 2, 2, 2, 2, 2, 1, 1, 1, 1, 1], [3, 3, 2, 2, 2, 4, 4, 4, 2, 2, 2, 2, 2, 4, 4, 4, 4, 4, 2, 2, 2, 2, 4, 4, 4, 2, 2, 2, 1, 1, 1, 1, 1, 1, 1, 1], [3, 3, 3, 3, 3, 3, 3, 3, 2, 2, 2, 2, 2, 4, 4, 4, 4, 4, 2, 2, 2, 2, 4, 4, 4, 2, 2, 2, 1, 1, 1, 1, 1, 1, 2, 2], [3, 3, 3, 3, 3, 3, 3, 3, 2, 2, 2, 2, 2, 2, 2, 2, 3, 3, 2, 2, 2, 2, 4, 4, 4, 2, 2, 2, 1, 1, 1, 1, 1, 2, 2, 2], [2, 2, 2, 2, 2, 2, 2, 2, 2, 2, 2, 2, 2, 2, 2, 2, 3, 3, 2, 2, 2, 2, 4, 4, 4, 2, 2, 2, 1, 1, 1, 1, 2, 2, 2, 2]]\n",
          "output_type": "stream"
        }
      ],
      "execution_count": 10
    },
    {
      "cell_type": "code",
      "source": "with open('blocos.txt', 'r') as f:\n    blocos = [[ele for ele in line.split()] for line in f]\nprint(blocos)\nf.close()",
      "metadata": {
        "trusted": true
      },
      "outputs": [
        {
          "name": "stdout",
          "text": "[['0', '.', '0', '7'], ['1', '_', '7', '4'], ['2', 's', '2', '3'], ['3', ';', '7', '0'], ['4'], ['5'], ['6'], ['7'], ['8'], ['9'], ['10']]\n",
          "output_type": "stream"
        }
      ],
      "execution_count": 16
    },
    {
      "cell_type": "code",
      "source": "chars=[\"0\", \"S\",\"T\",\" \",\"H\"]\nbkgds=[0, 4, 3, 2, 1]\n\n\n\nfor row in range(12):\n    for column in range(36):\n        \n        pinta(chars[ l[row][column] ],0, bkgds[ l[row][column]])\n        \n    \n    print()\n",
      "metadata": {
        "trusted": true
      },
      "outputs": [
        {
          "name": "stdout",
          "text": "\u001b[1;30;44mS\u001b[1;30;44mS\u001b[1;30;44mS\u001b[1;30;44mS\u001b[1;30;44mS\u001b[1;30;44mS\u001b[1;30;44mS\u001b[1;30;44mS\u001b[1;30;44mS\u001b[1;30;44mS\u001b[1;30;44mS\u001b[1;30;44mS\u001b[1;30;44mS\u001b[1;30;44mS\u001b[1;30;44mS\u001b[1;30;44mS\u001b[1;30;44mS\u001b[1;30;44mS\u001b[1;30;44mS\u001b[1;30;44mS\u001b[1;30;44mS\u001b[1;30;44mS\u001b[1;30;44mS\u001b[1;30;44mS\u001b[1;30;44mS\u001b[1;30;44mS\u001b[1;30;44mS\u001b[1;30;44mS\u001b[1;30;44mS\u001b[1;30;44mS\u001b[1;30;44mS\u001b[1;30;44mS\u001b[1;30;44mS\u001b[1;30;44mS\u001b[1;30;44mS\u001b[1;30;44mS\n\u001b[1;30;44mS\u001b[1;30;44mS\u001b[1;30;44mS\u001b[1;30;44mS\u001b[1;30;44mS\u001b[1;30;44mS\u001b[1;30;44mS\u001b[1;30;43mT\u001b[1;30;43mT\u001b[1;30;44mS\u001b[1;30;44mS\u001b[1;30;44mS\u001b[1;30;44mS\u001b[1;30;44mS\u001b[1;30;44mS\u001b[1;30;44mS\u001b[1;30;44mS\u001b[1;30;44mS\u001b[1;30;44mS\u001b[1;30;44mS\u001b[1;30;44mS\u001b[1;30;44mS\u001b[1;30;44mS\u001b[1;30;44mS\u001b[1;30;44mS\u001b[1;30;44mS\u001b[1;30;44mS\u001b[1;30;44mS\u001b[1;30;44mS\u001b[1;30;44mS\u001b[1;30;44mS\u001b[1;30;44mS\u001b[1;30;44mS\u001b[1;30;44mS\u001b[1;30;44mS\u001b[1;30;44mS\n\u001b[1;30;43mT\u001b[1;30;43mT\u001b[1;30;43mT\u001b[1;30;43mT\u001b[1;30;43mT\u001b[1;30;43mT\u001b[1;30;43mT\u001b[1;30;43mT\u001b[1;30;43mT\u001b[1;30;43mT\u001b[1;30;43mT\u001b[1;30;43mT\u001b[1;30;43mT\u001b[1;30;43mT\u001b[1;30;43mT\u001b[1;30;43mT\u001b[1;30;43mT\u001b[1;30;43mT\u001b[1;30;43mT\u001b[1;30;44mS\u001b[1;30;44mS\u001b[1;30;44mS\u001b[1;30;44mS\u001b[1;30;44mS\u001b[1;30;44mS\u001b[1;30;44mS\u001b[1;30;44mS\u001b[1;30;44mS\u001b[1;30;43mT\u001b[1;30;43mT\u001b[1;30;43mT\u001b[1;30;43mT\u001b[1;30;44mS\u001b[1;30;44mS\u001b[1;30;43mT\u001b[1;30;44mS\n\u001b[1;30;43mT\u001b[1;30;43mT\u001b[1;30;43mT\u001b[1;30;43mT\u001b[1;30;43mT\u001b[1;30;43mT\u001b[1;30;42m \u001b[1;30;42m \u001b[1;30;43mT\u001b[1;30;43mT\u001b[1;30;43mT\u001b[1;30;43mT\u001b[1;30;43mT\u001b[1;30;43mT\u001b[1;30;43mT\u001b[1;30;43mT\u001b[1;30;43mT\u001b[1;30;43mT\u001b[1;30;43mT\u001b[1;30;43mT\u001b[1;30;44mS\u001b[1;30;44mS\u001b[1;30;43mT\u001b[1;30;44mS\u001b[1;30;43mT\u001b[1;30;43mT\u001b[1;30;43mT\u001b[1;30;43mT\u001b[1;30;43mT\u001b[1;30;43mT\u001b[1;30;43mT\u001b[1;30;43mT\u001b[1;30;44mS\u001b[1;30;44mS\u001b[1;30;43mT\u001b[1;30;44mS\n\u001b[1;30;42m \u001b[1;30;42m \u001b[1;30;42m \u001b[1;30;42m \u001b[1;30;42m \u001b[1;30;42m \u001b[1;30;42m \u001b[1;30;42m \u001b[1;30;43mT\u001b[1;30;43mT\u001b[1;30;43mT\u001b[1;30;43mT\u001b[1;30;43mT\u001b[1;30;43mT\u001b[1;30;43mT\u001b[1;30;43mT\u001b[1;30;43mT\u001b[1;30;43mT\u001b[1;30;43mT\u001b[1;30;43mT\u001b[1;30;43mT\u001b[1;30;43mT\u001b[1;30;43mT\u001b[1;30;43mT\u001b[1;30;43mT\u001b[1;30;43mT\u001b[1;30;43mT\u001b[1;30;43mT\u001b[1;30;43mT\u001b[1;30;43mT\u001b[1;30;43mT\u001b[1;30;43mT\u001b[1;30;43mT\u001b[1;30;43mT\u001b[1;30;43mT\u001b[1;30;43mT\n\u001b[1;30;42m \u001b[1;30;42m \u001b[1;30;42m \u001b[1;30;42m \u001b[1;30;42m \u001b[1;30;42m \u001b[1;30;42m \u001b[1;30;42m \u001b[1;30;43mT\u001b[1;30;42m \u001b[1;30;42m \u001b[1;30;42m \u001b[1;30;42m \u001b[1;30;42m \u001b[1;30;42m \u001b[1;30;42m \u001b[1;30;42m \u001b[1;30;43mT\u001b[1;30;42m \u001b[1;30;42m \u001b[1;30;42m \u001b[1;30;42m \u001b[1;30;42m \u001b[1;30;42m \u001b[1;30;42m \u001b[1;30;42m \u001b[1;30;43mT\u001b[1;30;42m \u001b[1;30;42m \u001b[1;30;42m \u001b[1;30;42m \u001b[1;30;42m \u001b[1;30;42m \u001b[1;30;42m \u001b[1;30;42m \u001b[1;30;43mT\n\u001b[1;30;42m \u001b[1;30;42m \u001b[1;30;43mT\u001b[1;30;43mT\u001b[1;30;43mT\u001b[1;30;43mT\u001b[1;30;43mT\u001b[1;30;43mT\u001b[1;30;43mT\u001b[1;30;43mT\u001b[1;30;43mT\u001b[1;30;43mT\u001b[1;30;43mT\u001b[1;30;42m \u001b[1;30;42m \u001b[1;30;42m \u001b[1;30;42m \u001b[1;30;42m \u001b[1;30;42m \u001b[1;30;42m \u001b[1;30;42m \u001b[1;30;42m \u001b[1;30;42m \u001b[1;30;43mT\u001b[1;30;43mT\u001b[1;30;43mT\u001b[1;30;43mT\u001b[1;30;43mT\u001b[1;30;43mT\u001b[1;30;43mT\u001b[1;30;43mT\u001b[1;30;43mT\u001b[1;30;43mT\u001b[1;30;43mT\u001b[1;30;43mT\u001b[1;30;42m \n\u001b[1;30;42m \u001b[1;30;42m \u001b[1;30;43mT\u001b[1;30;43mT\u001b[1;30;43mT\u001b[1;30;41mH\u001b[1;30;41mH\u001b[1;30;41mH\u001b[1;30;43mT\u001b[1;30;43mT\u001b[1;30;43mT\u001b[1;30;43mT\u001b[1;30;43mT\u001b[1;30;43mT\u001b[1;30;43mT\u001b[1;30;43mT\u001b[1;30;43mT\u001b[1;30;43mT\u001b[1;30;43mT\u001b[1;30;42m \u001b[1;30;43mT\u001b[1;30;42m \u001b[1;30;43mT\u001b[1;30;43mT\u001b[1;30;43mT\u001b[1;30;43mT\u001b[1;30;43mT\u001b[1;30;43mT\u001b[1;30;43mT\u001b[1;30;43mT\u001b[1;30;43mT\u001b[1;30;44mS\u001b[1;30;44mS\u001b[1;30;44mS\u001b[1;30;44mS\u001b[1;30;44mS\n\u001b[1;30;42m \u001b[1;30;42m \u001b[1;30;43mT\u001b[1;30;43mT\u001b[1;30;43mT\u001b[1;30;41mH\u001b[1;30;41mH\u001b[1;30;41mH\u001b[1;30;43mT\u001b[1;30;43mT\u001b[1;30;43mT\u001b[1;30;43mT\u001b[1;30;43mT\u001b[1;30;41mH\u001b[1;30;41mH\u001b[1;30;41mH\u001b[1;30;41mH\u001b[1;30;41mH\u001b[1;30;43mT\u001b[1;30;43mT\u001b[1;30;43mT\u001b[1;30;43mT\u001b[1;30;41mH\u001b[1;30;41mH\u001b[1;30;41mH\u001b[1;30;43mT\u001b[1;30;43mT\u001b[1;30;43mT\u001b[1;30;44mS\u001b[1;30;44mS\u001b[1;30;44mS\u001b[1;30;44mS\u001b[1;30;44mS\u001b[1;30;44mS\u001b[1;30;44mS\u001b[1;30;44mS\n\u001b[1;30;42m \u001b[1;30;42m \u001b[1;30;42m \u001b[1;30;42m \u001b[1;30;42m \u001b[1;30;42m \u001b[1;30;42m \u001b[1;30;42m \u001b[1;30;43mT\u001b[1;30;43mT\u001b[1;30;43mT\u001b[1;30;43mT\u001b[1;30;43mT\u001b[1;30;41mH\u001b[1;30;41mH\u001b[1;30;41mH\u001b[1;30;41mH\u001b[1;30;41mH\u001b[1;30;43mT\u001b[1;30;43mT\u001b[1;30;43mT\u001b[1;30;43mT\u001b[1;30;41mH\u001b[1;30;41mH\u001b[1;30;41mH\u001b[1;30;43mT\u001b[1;30;43mT\u001b[1;30;43mT\u001b[1;30;44mS\u001b[1;30;44mS\u001b[1;30;44mS\u001b[1;30;44mS\u001b[1;30;44mS\u001b[1;30;44mS\u001b[1;30;43mT\u001b[1;30;43mT\n\u001b[1;30;42m \u001b[1;30;42m \u001b[1;30;42m \u001b[1;30;42m \u001b[1;30;42m \u001b[1;30;42m \u001b[1;30;42m \u001b[1;30;42m \u001b[1;30;43mT\u001b[1;30;43mT\u001b[1;30;43mT\u001b[1;30;43mT\u001b[1;30;43mT\u001b[1;30;43mT\u001b[1;30;43mT\u001b[1;30;43mT\u001b[1;30;42m \u001b[1;30;42m \u001b[1;30;43mT\u001b[1;30;43mT\u001b[1;30;43mT\u001b[1;30;43mT\u001b[1;30;41mH\u001b[1;30;41mH\u001b[1;30;41mH\u001b[1;30;43mT\u001b[1;30;43mT\u001b[1;30;43mT\u001b[1;30;44mS\u001b[1;30;44mS\u001b[1;30;44mS\u001b[1;30;44mS\u001b[1;30;44mS\u001b[1;30;43mT\u001b[1;30;43mT\u001b[1;30;43mT\n\u001b[1;30;43mT\u001b[1;30;43mT\u001b[1;30;43mT\u001b[1;30;43mT\u001b[1;30;43mT\u001b[1;30;43mT\u001b[1;30;43mT\u001b[1;30;43mT\u001b[1;30;43mT\u001b[1;30;43mT\u001b[1;30;43mT\u001b[1;30;43mT\u001b[1;30;43mT\u001b[1;30;43mT\u001b[1;30;43mT\u001b[1;30;43mT\u001b[1;30;42m \u001b[1;30;42m \u001b[1;30;43mT\u001b[1;30;43mT\u001b[1;30;43mT\u001b[1;30;43mT\u001b[1;30;41mH\u001b[1;30;41mH\u001b[1;30;41mH\u001b[1;30;43mT\u001b[1;30;43mT\u001b[1;30;43mT\u001b[1;30;44mS\u001b[1;30;44mS\u001b[1;30;44mS\u001b[1;30;44mS\u001b[1;30;43mT\u001b[1;30;43mT\u001b[1;30;43mT\u001b[1;30;43mT\n",
          "output_type": "stream"
        }
      ],
      "execution_count": 52
    },
    {
      "cell_type": "code",
      "source": "for row in range(10):\n    for column in range(10):\n        espacar(random.randint(0, 8) )\n    print()",
      "metadata": {
        "trusted": true
      },
      "outputs": [
        {
          "name": "stdout",
          "text": "\u001b[1;37;48m \u001b[1;37;47m \u001b[1;37;42m \u001b[1;37;40m \u001b[1;37;43m \u001b[1;37;43m \u001b[1;37;45m \u001b[1;37;45m \u001b[1;37;43m \u001b[1;37;42m \n\u001b[1;37;43m \u001b[1;37;43m \u001b[1;37;41m \u001b[1;37;44m \u001b[1;37;40m \u001b[1;37;42m \u001b[1;37;48m \u001b[1;37;40m \u001b[1;37;41m \u001b[1;37;40m \n\u001b[1;37;42m \u001b[1;37;48m \u001b[1;37;44m \u001b[1;37;47m \u001b[1;37;45m \u001b[1;37;40m \u001b[1;37;40m \u001b[1;37;45m \u001b[1;37;41m \u001b[1;37;40m \n\u001b[1;37;46m \u001b[1;37;40m \u001b[1;37;43m \u001b[1;37;46m \u001b[1;37;45m \u001b[1;37;45m \u001b[1;37;48m \u001b[1;37;46m \u001b[1;37;47m \u001b[1;37;47m \n\u001b[1;37;45m \u001b[1;37;47m \u001b[1;37;48m \u001b[1;37;42m \u001b[1;37;40m \u001b[1;37;46m \u001b[1;37;43m \u001b[1;37;48m \u001b[1;37;43m \u001b[1;37;41m \n\u001b[1;37;48m \u001b[1;37;45m \u001b[1;37;48m \u001b[1;37;47m \u001b[1;37;46m \u001b[1;37;47m \u001b[1;37;44m \u001b[1;37;45m \u001b[1;37;45m \u001b[1;37;47m \n\u001b[1;37;46m \u001b[1;37;41m \u001b[1;37;42m \u001b[1;37;46m \u001b[1;37;45m \u001b[1;37;46m \u001b[1;37;46m \u001b[1;37;41m \u001b[1;37;43m \u001b[1;37;47m \n\u001b[1;37;44m \u001b[1;37;41m \u001b[1;37;42m \u001b[1;37;44m \u001b[1;37;47m \u001b[1;37;44m \u001b[1;37;40m \u001b[1;37;45m \u001b[1;37;43m \u001b[1;37;41m \n\u001b[1;37;47m \u001b[1;37;46m \u001b[1;37;48m \u001b[1;37;47m \u001b[1;37;43m \u001b[1;37;43m \u001b[1;37;44m \u001b[1;37;45m \u001b[1;37;47m \u001b[1;37;43m \n\u001b[1;37;40m \u001b[1;37;42m \u001b[1;37;47m \u001b[1;37;41m \u001b[1;37;47m \u001b[1;37;45m \u001b[1;37;46m \u001b[1;37;42m \u001b[1;37;40m \u001b[1;37;43m \n",
          "output_type": "stream"
        }
      ],
      "execution_count": 22
    },
    {
      "cell_type": "code",
      "source": "print(\"\\033[1;31;41mXXXXXXXXXXX\")\nprint(\"\\033[1;31;42m           \")",
      "metadata": {
        "trusted": true
      },
      "outputs": [
        {
          "name": "stdout",
          "text": "\u001b[1;31;41mXXXXXXXXXXX\n\u001b[1;31;42m           \n",
          "output_type": "stream"
        }
      ],
      "execution_count": 28
    },
    {
      "cell_type": "code",
      "source": "",
      "metadata": {
        "trusted": true
      },
      "outputs": [
        {
          "name": "stdout",
          "text": " ᝲ ᝳ ᝴ ᝵ ᝶ ᝷ ᝸ ᝹ ᝺ ᝻ ᝼ ᝽ ᝾ ᝿ ក ខ គ ឃ ង ច ឆ ជ ឈ ញ ដ ឋ ឌ ឍ ណ ត ថ ទ ធ ន ប ផ ព ភ ម យ រ ល វ ឝ ឞ ស ហ ឡ អ ឣ ឤ ឥ ឦ ឧ ឨ ឩ ឪ ឫ ឬ ឭ ឮ ឯ ឰ ឱ ឲ ឳ ឴ ឵ ា ិ ី ឹ ឺ ុ ូ ួ ើ ឿ ៀ េ ែ ៃ ោ ៅ ំ ះ ៈ ៉ ៊ ់ ៌ ៍ ៎ ៏ ័ ៑ ្ ៓ ។ ៕ ៖ ៗ ៘ ៙ ៚ ៛ ៜ ៝ ៞ ៟ ០ ១ ២ ៣ ៤ ៥ ៦ ៧ ៨ ៩ ៪ ៫ ៬ ៭ ៮ ៯ ៰ ៱ ៲ ៳ ៴ ៵ ៶ ៷ ៸ ៹ ៺ ៻ ៼ ៽ ៾ ៿ ᠀ ᠁ ᠂ ᠃ ᠄ ᠅ ᠆ ᠇ ᠈ ᠉ ᠊ ᠋ ᠌ ᠍ ᠎ ᠏ ᠐ ᠑ ᠒ ᠓ ᠔ ᠕ ᠖ ᠗ ᠘ ᠙ ᠚ ᠛ ᠜ ᠝ ᠞ ᠟ ᠠ ᠡ ᠢ ᠣ ᠤ ᠥ ᠦ ᠧ ᠨ ᠩ ᠪ ᠫ ᠬ ᠭ ᠮ ᠯ ᠰ ᠱ ᠲ ᠳ ᠴ ᠵ ᠶ ᠷ ᠸ ᠹ ᠺ ᠻ ᠼ ᠽ ᠾ ᠿ ᡀ ᡁ ᡂ ᡃ ᡄ ᡅ ᡆ ᡇ ᡈ ᡉ ᡊ ᡋ ᡌ ᡍ ᡎ ᡏ ᡐ ᡑ ᡒ ᡓ ᡔ ᡕ ᡖ ᡗ ᡘ ᡙ ᡚ ᡛ ᡜ ᡝ ᡞ ᡟ ᡠ ᡡ ᡢ ᡣ ᡤ ᡥ ᡦ ᡧ ᡨ ᡩ ᡪ ᡫ ᡬ ᡭ ᡮ ᡯ ᡰ ᡱ ᡲ ᡳ ᡴ ᡵ ᡶ ᡷ ᡸ ᡹ ᡺ ᡻ ᡼ ᡽ ᡾ ᡿ ᢀ ᢁ ᢂ ᢃ ᢄ ᢅ ᢆ ᢇ ᢈ ᢉ ᢊ ᢋ ᢌ ᢍ ᢎ ᢏ ᢐ ᢑ ᢒ ᢓ ᢔ ᢕ ᢖ ᢗ ᢘ ᢙ ᢚ ᢛ ᢜ ᢝ ᢞ ᢟ ᢠ ᢡ ᢢ ᢣ ᢤ ᢥ ᢦ ᢧ ᢨ ᢩ ᢪ ᢫ ᢬ ᢭ ᢮ ᢯ ᢰ ᢱ ᢲ ᢳ ᢴ ᢵ ᢶ ᢷ ᢸ ᢹ ᢺ ᢻ ᢼ ᢽ ᢾ ᢿ ᣀ ᣁ ᣂ ᣃ ᣄ ᣅ ᣆ ᣇ ᣈ ᣉ ᣊ ᣋ ᣌ ᣍ ᣎ ᣏ ᣐ ᣑ ᣒ ᣓ ᣔ ᣕ ᣖ ᣗ ᣘ ᣙ ᣚ ᣛ ᣜ ᣝ ᣞ ᣟ ᣠ ᣡ ᣢ ᣣ ᣤ ᣥ ᣦ ᣧ ᣨ ᣩ ᣪ ᣫ ᣬ ᣭ ᣮ ᣯ ᣰ ᣱ ᣲ ᣳ ᣴ ᣵ ᣶ ᣷ ᣸ ᣹ ᣺ ᣻ ᣼ ᣽ ᣾ ᣿ ᤀ ᤁ ᤂ ᤃ ᤄ ᤅ ᤆ ᤇ ᤈ ᤉ ᤊ ᤋ ᤌ ᤍ ᤎ ᤏ ᤐ ᤑ ᤒ ᤓ ᤔ ᤕ ᤖ ᤗ ᤘ ᤙ ᤚ ᤛ ᤜ ᤝ ᤞ ᤟ ᤠ ᤡ ᤢ ᤣ ᤤ ᤥ ᤦ ᤧ ᤨ ᤩ ᤪ ᤫ ᤬ ᤭ ᤮ ᤯ ᤰ ᤱ ᤲ ᤳ ᤴ ᤵ ᤶ ᤷ ᤸ ᤹ ᤺ ᤻ ᤼ ᤽ ᤾ ᤿ ᥀ ᥁ ᥂ ᥃ ᥄ ᥅ ᥆ ᥇ ᥈ ᥉ ᥊ ᥋ ᥌ ᥍ ᥎ ᥏ ᥐ ᥑ ᥒ ᥓ ᥔ ᥕ ᥖ ᥗ ᥘ ᥙ ᥚ ᥛ ᥜ ᥝ ᥞ ᥟ ᥠ ᥡ ᥢ ᥣ ᥤ ᥥ ᥦ ᥧ ᥨ ᥩ ᥪ ᥫ ᥬ ᥭ ᥮ ᥯ ᥰ ᥱ ᥲ ᥳ ᥴ ᥵ ᥶ ᥷ ᥸ ᥹ ᥺ ᥻ ᥼ ᥽ ᥾ ᥿ ᦀ ᦁ ᦂ ᦃ ᦄ ᦅ ᦆ ᦇ ᦈ ᦉ ᦊ ᦋ ᦌ ᦍ ᦎ ᦏ ᦐ ᦑ ᦒ ᦓ ᦔ ᦕ ᦖ ᦗ ᦘ ᦙ ᦚ ᦛ ᦜ ᦝ ᦞ ᦟ ᦠ ᦡ ᦢ ᦣ ᦤ ᦥ ᦦ ᦧ ᦨ ᦩ ᦪ ᦫ ᦬ ᦭ ᦮ ᦯ ᦰ ᦱ ᦲ ᦳ ᦴ ᦵ ᦶ ᦷ ᦸ ᦹ ᦺ ᦻ ᦼ ᦽ ᦾ ᦿ ᧀ ᧁ ᧂ ᧃ ᧄ ᧅ ᧆ ᧇ ᧈ ᧉ ᧊ ᧋ ᧌ ᧍ ᧎ ᧏ ᧐ ᧑ ᧒ ᧓ ᧔ ᧕ ᧖ ᧗ ᧘ ᧙ ᧚ ᧛ ᧜ ᧝ ᧞ ᧟ ᧠ ᧡ ᧢ ᧣ ᧤ ᧥ ᧦ ᧧ ᧨ ᧩ ᧪ ᧫ ᧬ ᧭ ᧮ ᧯ ᧰ ᧱ ᧲ ᧳ ᧴ ᧵ ᧶ ᧷ ᧸ ᧹ ᧺ ᧻ ᧼ ᧽ ᧾ ᧿ ᨀ ᨁ ᨂ ᨃ ᨄ ᨅ ᨆ ᨇ ᨈ ᨉ ᨊ ᨋ ᨌ ᨍ ᨎ ᨏ ᨐ ᨑ ᨒ ᨓ ᨔ ᨕ ᨖ ᨗ ᨘ ᨙ ᨚ ᨛ ᨜ ᨝ ᨞ ᨟ ᨠ ᨡ ᨢ ᨣ ᨤ ᨥ ᨦ ᨧ ᨨ ᨩ ᨪ ᨫ ᨬ ᨭ ᨮ ᨯ ᨰ ᨱ ᨲ ᨳ ᨴ ᨵ ᨶ ᨷ ᨸ ᨹ ᨺ ᨻ ᨼ ᨽ ᨾ ᨿ ᩀ ᩁ ᩂ ᩃ ᩄ ᩅ ᩆ ᩇ ᩈ ᩉ ᩊ ᩋ ᩌ ᩍ ᩎ ᩏ ᩐ ᩑ ᩒ ᩓ ᩔ ᩕ ᩖ ᩗ ᩘ ᩙ ᩚ ᩛ ᩜ ᩝ ᩞ ᩟ ᩠ ᩡ ᩢ ᩣ ᩤ ᩥ ᩦ ᩧ ᩨ ᩩ ᩪ ᩫ ᩬ ᩭ ᩮ ᩯ ᩰ ᩱ ᩲ ᩳ ᩴ ᩵ ᩶ ᩷ ᩸ ᩹ ᩺ ᩻ ᩼ ᩽ ᩾ ᩿ ᪀ ᪁ ᪂ ᪃ ᪄ ᪅ ᪆ ᪇ ᪈ ᪉ ᪊ ᪋ ᪌ ᪍ ᪎ ᪏ ᪐ ᪑ ᪒ ᪓ ᪔ ᪕ ᪖ ᪗ ᪘ ᪙ ᪚ ᪛ ᪜ ᪝ ᪞ ᪟ ",
          "output_type": "stream"
        }
      ],
      "execution_count": null
    },
    {
      "cell_type": "code",
      "source": "",
      "metadata": {
        "trusted": true
      },
      "outputs": [],
      "execution_count": null
    }
  ]
}